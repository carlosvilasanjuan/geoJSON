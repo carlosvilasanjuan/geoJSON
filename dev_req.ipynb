{
 "cells": [
  {
   "cell_type": "code",
   "execution_count": 56,
   "metadata": {},
   "outputs": [],
   "source": [
    "from pymongo import MongoClient\n",
    "import pandas as pd\n",
    "from bson import json_util\n",
    "from matplotlib import pyplot as plt\n",
    "%matplotlib inline\n",
    "from folium import Map,Marker\n",
    "from folium.plugins import MarkerCluster"
   ]
  },
  {
   "cell_type": "code",
   "execution_count": 2,
   "metadata": {},
   "outputs": [],
   "source": [
    "# Access DataBase\n",
    "client = MongoClient()\n",
    "db = client.get_database(\"companies\")\n",
    "comp = db.companies"
   ]
  },
  {
   "cell_type": "markdown",
   "metadata": {},
   "source": [
    "# Creating the offices collection"
   ]
  },
  {
   "cell_type": "code",
   "execution_count": 3,
   "metadata": {},
   "outputs": [],
   "source": [
    "res = comp.aggregate([\n",
    "                      {\"$unwind\":\"$offices\" },\n",
    "                      {\"$match\":{\"offices.latitude\":{\"$ne\":None}}},\n",
    "                      {\"$match\":{\"offices.longitude\":{\"$ne\":None}}},\n",
    "                      {\"$project\":{\"_id\":0}}])"
   ]
  },
  {
   "cell_type": "code",
   "execution_count": 4,
   "metadata": {},
   "outputs": [
    {
     "data": {
      "text/plain": [
       "<pymongo.results.InsertManyResult at 0x7f9c1066b840>"
      ]
     },
     "execution_count": 4,
     "metadata": {},
     "output_type": "execute_result"
    }
   ],
   "source": [
    "db.companies_unwinded.insert_many(res)"
   ]
  },
  {
   "cell_type": "code",
   "execution_count": 5,
   "metadata": {},
   "outputs": [],
   "source": [
    "offices = db.companies_unwinded"
   ]
  },
  {
   "cell_type": "markdown",
   "metadata": {},
   "source": [
    "## Filter 1: startupfriendly"
   ]
  },
  {
   "cell_type": "code",
   "execution_count": 6,
   "metadata": {},
   "outputs": [
    {
     "name": "stdout",
     "output_type": "stream",
     "text": [
      "['NZL', 'GEO', 'CAN', 'SGP', 'HKG', 'JAM', 'AUS', 'AZE', 'ARM', 'UZB', 'XKX', 'MDA', 'EST', 'BRN', 'GBR', 'TWN', 'IRL', 'MUS', 'NOR', 'NLD']\n"
     ]
    },
    {
     "data": {
      "text/plain": [
       "['NZL', 'GEO', 'CAN']"
      ]
     },
     "execution_count": 6,
     "metadata": {},
     "output_type": "execute_result"
    }
   ],
   "source": [
    "%run startupfriendly.ipynb\n",
    "startupfriendly[0:3]"
   ]
  },
  {
   "cell_type": "markdown",
   "metadata": {},
   "source": [
    "## filter 2: Developpers want to be near startups"
   ]
  },
  {
   "cell_type": "code",
   "execution_count": 7,
   "metadata": {},
   "outputs": [
    {
     "name": "stdout",
     "output_type": "stream",
     "text": [
      "{'social', 'travel', 'hardware', 'education', 'ecommerce', 'analytics', 'medical', 'biotech', 'local', 'real_estate', None, 'health', 'legal', 'photo_video', 'finance', 'software', 'games_video', 'public_relations', 'search', 'music', 'mobile', 'other', 'advertising', 'messaging', 'hospitality', 'fashion', 'nonprofit', 'enterprise', 'semiconductor', 'design', 'security', 'news', 'transportation', 'nanotech', 'sports', 'automotive', 'web', 'network_hosting', 'consulting', 'cleantech', 'manufacturing'}\n"
     ]
    }
   ],
   "source": [
    "category_list = list(offices.find({},{'category_code':1, '_id':0}))\n",
    "cat_values = [ele['category_code'] for ele in category_list]\n",
    "print(set(cat_values))"
   ]
  },
  {
   "cell_type": "markdown",
   "metadata": {},
   "source": [
    "Tech is an operational model more than a sector this means there could be tech companies in almost all sectors...\n",
    "\n",
    "\n",
    "This means you could have tech companies within all category codes, example (legaltech companies on legal, fintech companies on finance)\n",
    "\n",
    "\n",
    "So as crunchbase has a reputation for being a database specializd in tech companies, for that it makes sense to first assess the prominence os sectors where all the companies are tech companies (ex:web, software, mobile, advertising, enterprise etc...) using offices% as a proxy for the prominence of tech only sectors   "
   ]
  },
  {
   "cell_type": "code",
   "execution_count": 8,
   "metadata": {
    "scrolled": false
   },
   "outputs": [
    {
     "name": "stdout",
     "output_type": "stream",
     "text": [
      "             sector  count_off       off%\n",
      "36              web      18456  21.294074\n",
      "15         software      15080  17.398929\n",
      "20           mobile       5456   6.294997\n",
      "22      advertising       5432   6.267307\n",
      "16      games_video       5152   5.944250\n",
      "21            other       5000   5.768876\n",
      "27       enterprise       4336   5.002769\n",
      "38       consulting       3560   4.107440\n",
      "4         ecommerce       3296   3.802843\n",
      "37  network_hosting       3280   3.784382\n",
      "\n",
      "As we can see in the Series below top 10 sectors in offices count are cominated by tech companies\n",
      " \n",
      "This sectors account for 79.66586671589442 of total  crunch database offices, so we can conclude crunchdb is specialised in tech companies and almost all the companies in the database are related to tech.\n"
     ]
    }
   ],
   "source": [
    "#is crunchbase a database specialised in tech companies?\n",
    "companiesxcat = [[cat,\n",
    "                  cat_values.count(cat),\n",
    "                  ((cat_values.count(cat))/(len(cat_values)))*100\n",
    "                 ] for cat in set(cat_values)]\n",
    "cat_df = pd.DataFrame(companiesxcat)\n",
    "cat_df=cat_df.rename(columns={0:'sector', 1:'count_off', 2:'off%'})\n",
    "cat_df = cat_df.sort_values(by='off%',ascending=False)\n",
    "print(cat_df.head(10))\n",
    "print (\"\\nAs we can see in the Series below top 10 sectors in offices count are cominated by tech companies\")\n",
    "print (f\" \\nThis sectors account for {sum(cat_df['off%'][0:10])} of total  crunch database offices, so we can conclude crunchdb is specialised in tech companies and almost all the companies in the database are related to tech.\")"
   ]
  },
  {
   "cell_type": "markdown",
   "metadata": {},
   "source": [
    "## Calculating The number of tech startups that are near each potential office location"
   ]
  },
  {
   "cell_type": "markdown",
   "metadata": {},
   "source": [
    "#### Creating the filter for tech startups"
   ]
  },
  {
   "cell_type": "code",
   "execution_count": 9,
   "metadata": {},
   "outputs": [
    {
     "data": {
      "text/plain": [
       "[{'_id': ObjectId('5fb2b8e81d0bca7750a902bd'),\n",
       "  'name': 'Wetpaint',\n",
       "  'offices': {'latitude': 47.603122, 'longitude': -122.333253}},\n",
       " {'_id': ObjectId('5fb2b8e81d0bca7750a902be'),\n",
       "  'name': 'Wetpaint',\n",
       "  'offices': {'latitude': 40.7237306, 'longitude': -73.9964312}},\n",
       " {'_id': ObjectId('5fb2b8e81d0bca7750a902c0'),\n",
       "  'name': 'Digg',\n",
       "  'offices': {'latitude': 37.764726, 'longitude': -122.394523}},\n",
       " {'_id': ObjectId('5fb2b8e81d0bca7750a902c2'),\n",
       "  'name': 'Geni',\n",
       "  'offices': {'latitude': 34.090368, 'longitude': -118.393064}},\n",
       " {'_id': ObjectId('5fb2b8e81d0bca7750a902c4'),\n",
       "  'name': 'Gizmoz',\n",
       "  'offices': {'latitude': 37.48413, 'longitude': -122.169472}}]"
      ]
     },
     "execution_count": 9,
     "metadata": {},
     "output_type": "execute_result"
    }
   ],
   "source": [
    "value_filter = {'total_money_raised':{'$gte':'$1000_000_000'},\n",
    "                'deadpooled_day':None} #companies that are deadpooled are not counted\n",
    "                \n",
    "value_project = {'_id':1,\n",
    "                 'name':1,\n",
    "                 'offices.latitude':1,\n",
    "                'offices.longitude':1}\n",
    "\n",
    "tech_startups = offices.find(value_filter,value_project)\n",
    "tech_list = list(tech_startups)\n",
    "tech_list[0:5]"
   ]
  },
  {
   "cell_type": "markdown",
   "metadata": {},
   "source": [
    "#### Creating a new collection for tech startups as  base for the geoqueries"
   ]
  },
  {
   "cell_type": "code",
   "execution_count": 107,
   "metadata": {},
   "outputs": [],
   "source": [
    "res = comp.aggregate([\n",
    "                      {\"$unwind\":\"$offices\" },\n",
    "                      {\"$match\":{\"offices.latitude\":{\"$ne\":None}}},\n",
    "                      {\"$match\":{\"offices.longitude\":{\"$ne\":None}}},\n",
    "                      {\"$match\":{\"offices.country_code\":{\"$in\":startupfriendly[0:3]}}},\n",
    "                      {\"$match\":{'deadpooled_day':None}},\n",
    "                      {\"$project\":{\"_id\":0}}\n",
    "])\n",
    "\n",
    "db.top3.insert_many(res)\n",
    "startups = db.top3"
   ]
  },
  {
   "cell_type": "code",
   "execution_count": 108,
   "metadata": {},
   "outputs": [],
   "source": [
    "# Adding the coordinates to the Collection\n",
    "res1 = startups.find({},{\"offices\":1}) #res es un iterador\n",
    "for c in res1:\n",
    "    filt = {\"_id\":c[\"_id\"]}\n",
    "    coord = {\n",
    "              \"type\": \"Point\",\n",
    "              \"coordinates\": [c[\"offices\"][\"longitude\"], c[\"offices\"][\"latitude\"]]\n",
    "            }\n",
    "    update = {\"$set\":{\"coord\":coord}}\n",
    "    startups.update_one(filt,update)"
   ]
  },
  {
   "cell_type": "code",
   "execution_count": 109,
   "metadata": {},
   "outputs": [
    {
     "data": {
      "text/plain": [
       "456"
      ]
     },
     "execution_count": 109,
     "metadata": {},
     "output_type": "execute_result"
    }
   ],
   "source": [
    "scoord = [[c[\"offices\"][\"longitude\"], c[\"offices\"][\"latitude\"]] for c in list(startups.find())]\n",
    "len(scoord)"
   ]
  },
  {
   "cell_type": "code",
   "execution_count": 110,
   "metadata": {},
   "outputs": [],
   "source": [
    "target_ids = [list(startups.find({'coord':{'$near':{'$geometry':{'type':'Point', 'coordinates':c},\"$maxDistance\":1000}}},{'_id':1})) for c in scoord]"
   ]
  },
  {
   "cell_type": "code",
   "execution_count": 111,
   "metadata": {},
   "outputs": [],
   "source": [
    "dev_attractivity = [[_id, target_ids.count(_id)] for _id in target_ids]"
   ]
  },
  {
   "cell_type": "code",
   "execution_count": 112,
   "metadata": {},
   "outputs": [
    {
     "name": "stdout",
     "output_type": "stream",
     "text": [
      "                                                   _id  count_off\n",
      "211  [{'_id': 5fbb5e6dd6feb44d924c0dfa}, {'_id': 5f...         22\n",
      "431  [{'_id': 5fbb5e6dd6feb44d924c0dfa}, {'_id': 5f...         22\n",
      "352  [{'_id': 5fbb5e6dd6feb44d924c0dfa}, {'_id': 5f...         22\n",
      "37   [{'_id': 5fbb5e6dd6feb44d924c0dfa}, {'_id': 5f...         22\n",
      "292  [{'_id': 5fbb5e6dd6feb44d924c0dfa}, {'_id': 5f...         22\n",
      "..                                                 ...        ...\n",
      "154  [{'_id': 5fbb5e6ed6feb44d924c0e7f}, {'_id': 5f...          1\n",
      "153  [{'_id': 5fbb5e6ed6feb44d924c0e7e}, {'_id': 5f...          1\n",
      "150  [{'_id': 5fbb5e6ed6feb44d924c0e7b}, {'_id': 5f...          1\n",
      "149  [{'_id': 5fbb5e6ed6feb44d924c0e7a}, {'_id': 5f...          1\n",
      "455  [{'_id': 5fbb5e6ed6feb44d924c0fac}, {'_id': 5f...          1\n",
      "\n",
      "[456 rows x 2 columns]\n"
     ]
    }
   ],
   "source": [
    "df_devpref = pd.DataFrame(dev_attractivity)\n",
    "df_devpref = df_devpref.rename(columns={0:'_id', 1:'count_off'})\n",
    "df_devpref = df_devpref.sort_values(by='count_off',ascending=False)\n",
    "print(df_devpref)"
   ]
  },
  {
   "cell_type": "code",
   "execution_count": 122,
   "metadata": {},
   "outputs": [
    {
     "data": {
      "image/png": "[encoded data removed]",
      "text/plain": [
       "<Figure size 432x288 with 1 Axes>"
      ]
     },
     "metadata": {
      "needs_background": "light"
     },
     "output_type": "display_data"
    }
   ],
   "source": [
    "plt.hist(df_devpref['count_off']);"
   ]
  },
  {
   "cell_type": "markdown",
   "metadata": {},
   "source": [
    "As we can see on the graph above there are 30 available locations that are at least than 500 m away from between 10 startups, and the others are quite disperse so, it makes sense to keep only the offices that are near at least 9 offices"
   ]
  },
  {
   "cell_type": "code",
   "execution_count": 115,
   "metadata": {},
   "outputs": [
    {
     "data": {
      "text/plain": [
       "42"
      ]
     },
     "execution_count": 115,
     "metadata": {},
     "output_type": "execute_result"
    }
   ],
   "source": [
    "df_devsel= df_devpref[df_devpref['count_off']>9]\n",
    "len(df_devsel)"
   ]
  },
  {
   "cell_type": "code",
   "execution_count": 128,
   "metadata": {},
   "outputs": [
    {
     "data": {
      "text/plain": [
       "[[{'_id': ObjectId('5fbb5e6dd6feb44d924c0dfa')},\n",
       "  {'_id': ObjectId('5fbb5e6dd6feb44d924c0dfc')},\n",
       "  {'_id': ObjectId('5fbb5e6dd6feb44d924c0e3f')},\n",
       "  {'_id': ObjectId('5fbb5e6ed6feb44d924c0ed3')},\n",
       "  {'_id': ObjectId('5fbb5e6ed6feb44d924c0f94')},\n",
       "  {'_id': ObjectId('5fbb5e6ed6feb44d924c0f86')},\n",
       "  {'_id': ObjectId('5fbb5e6ed6feb44d924c0f45')},\n",
       "  {'_id': ObjectId('5fbb5e6ed6feb44d924c0f34')},\n",
       "  {'_id': ObjectId('5fbb5e6ed6feb44d924c0f32')},\n",
       "  {'_id': ObjectId('5fbb5e6ed6feb44d924c0f0f')},\n",
       "  {'_id': ObjectId('5fbb5e6ed6feb44d924c0ecd')},\n",
       "  {'_id': ObjectId('5fbb5e6ed6feb44d924c0f09')},\n",
       "  {'_id': ObjectId('5fbb5e6ed6feb44d924c0ebe')},\n",
       "  {'_id': ObjectId('5fbb5e6ed6feb44d924c0eb8')},\n",
       "  {'_id': ObjectId('5fbb5e6ed6feb44d924c0e9c')},\n",
       "  {'_id': ObjectId('5fbb5e6ed6feb44d924c0e80')},\n",
       "  {'_id': ObjectId('5fbb5e6ed6feb44d924c0e5b')},\n",
       "  {'_id': ObjectId('5fbb5e6dd6feb44d924c0e26')},\n",
       "  {'_id': ObjectId('5fbb5e6ed6feb44d924c0e5a')},\n",
       "  {'_id': ObjectId('5fbb5e6dd6feb44d924c0e24')},\n",
       "  {'_id': ObjectId('5fbb5e6dd6feb44d924c0dfb')},\n",
       "  {'_id': ObjectId('5fbb5e6dd6feb44d924c0e0a')},\n",
       "  {'_id': ObjectId('5fbb5e6ed6feb44d924c0f55')},\n",
       "  {'_id': ObjectId('5fbb5e6dd6feb44d924c0e49')},\n",
       "  {'_id': ObjectId('5fbb5e6dd6feb44d924c0e10')},\n",
       "  {'_id': ObjectId('5fbb5e6dd6feb44d924c0e31')}]]"
      ]
     },
     "execution_count": 128,
     "metadata": {},
     "output_type": "execute_result"
    }
   ],
   "source": [
    "developpers_selection = [_id for _id in df_devsel['_id']]\n",
    "developpers_selection[0:1]"
   ]
  },
  {
   "cell_type": "code",
   "execution_count": 137,
   "metadata": {},
   "outputs": [
    {
     "data": {
      "text/plain": [
       "[[{'_id': ObjectId('5fbb5e6dd6feb44d924c0dfa'),\n",
       "   'coord': {'type': 'Point', 'coordinates': [-79.386755, 43.670233]}}],\n",
       " [{'_id': ObjectId('5fbb5e6dd6feb44d924c0dfa'),\n",
       "   'coord': {'type': 'Point', 'coordinates': [-79.386755, 43.670233]}}]]"
      ]
     },
     "execution_count": 137,
     "metadata": {},
     "output_type": "execute_result"
    }
   ],
   "source": [
    "[ele[0]['_id'] for ele in developpers_selection]\n",
    "\n",
    "dev_selected = [list(startups.find({'_id':ele[0]['_id']},{'_id':1,'coord':1})) for ele in developpers_selection]\n",
    "dev_selected[0:2]"
   ]
  },
  {
   "cell_type": "code",
   "execution_count": 146,
   "metadata": {},
   "outputs": [],
   "source": [
    "folium = [[ele[0]['coord']['coordinates'][1],ele[0]['coord']['coordinates'][0]] for ele in dev_selected]"
   ]
  },
  {
   "cell_type": "code",
   "execution_count": 153,
   "metadata": {},
   "outputs": [],
   "source": [
    "m = Map(location=[45.5017, -73.5673],zoom_start=3)"
   ]
  },
  {
   "cell_type": "code",
   "execution_count": 154,
   "metadata": {},
   "outputs": [
    {
     "data": {
      "text/html": [
       "<div style=\"width:100%;\"><div style=\"position:relative;width:100%;height:0;padding-bottom:60%;\"><span style=\"color:#565656\">Make this Notebook Trusted to load map: File -> Trust Notebook</span><iframe src=\"about:blank\" style=\"position:absolute;width:100%;height:100%;left:0;top:0;border:none !important;\" data-html=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 onload=\"this.contentDocument.open();this.contentDocument.write(atob(this.getAttribute('data-html')));this.contentDocument.close();\" allowfullscreen webkitallowfullscreen mozallowfullscreen></iframe></div></div>"
      ],
      "text/plain": [
       "<folium.folium.Map at 0x7f9c2022fc40>"
      ]
     },
     "execution_count": 154,
     "metadata": {},
     "output_type": "execute_result"
    }
   ],
   "source": [
    "m"
   ]
  },
  {
   "cell_type": "code",
   "execution_count": 155,
   "metadata": {},
   "outputs": [
    {
     "data": {
      "text/plain": [
       "<folium.plugins.marker_cluster.MarkerCluster at 0x7f9c2022ffa0>"
      ]
     },
     "execution_count": 155,
     "metadata": {},
     "output_type": "execute_result"
    }
   ],
   "source": [
    "MarkerCluster(folium).add_to(m)"
   ]
  },
  {
   "cell_type": "code",
   "execution_count": 156,
   "metadata": {},
   "outputs": [
    {
     "data": {
      "text/html": [
       "<div style=\"width:100%;\"><div style=\"position:relative;width:100%;height:0;padding-bottom:60%;\"><span style=\"color:#565656\">Make this Notebook Trusted to load map: File -> Trust Notebook</span><iframe src=\"about:blank\" style=\"position:absolute;width:100%;height:100%;left:0;top:0;border:none !important;\" data-html=PCFET0NUWVBFIGh0bWw+CjxoZWFkPiAgICAKICAgIDxtZXRhIGh0dHAtZXF1aXY9ImNvbnRlbnQtdHlwZSIgY29udGVudD0idGV4dC9odG1sOyBjaGFyc2V0PVVURi04IiAvPgogICAgCiAgICAgICAgPHNjcmlwdD4KICAgICAgICAgICAgTF9OT19UT1VDSCA9IGZhbHNlOwogICAgICAgICAgICBMX0RJU0FCTEVfM0QgPSBmYWxzZTsKICAgICAgICA8L3NjcmlwdD4KICAgIAogICAgPHNjcmlwdCBzcmM9Imh0dHBzOi8vY2RuLmpzZGVsaXZyLm5ldC9ucG0vbGVhZmxldEAxLjYuMC9kaXN0L2xlYWZsZXQuanMiPjwvc2NyaXB0PgogICAgPHNjcmlwdCBzcmM9Imh0dHBzOi8vY29kZS5qcXVlcnkuY29tL2pxdWVyeS0xLjEyLjQubWluLmpzIj48L3NjcmlwdD4KICAgIDxzY3JpcHQgc3JjPSJodHRwczovL21heGNkbi5ib290c3RyYXBjZG4uY29tL2Jvb3RzdHJhcC8zLjIuMC9qcy9ib290c3RyYXAubWluLmpzIj48L3NjcmlwdD4KICAgIDxzY3JpcHQgc3JjPSJodHRwczovL2NkbmpzLmNsb3VkZmxhcmUuY29tL2FqYXgvbGlicy9MZWFmbGV0LmF3ZXNvbWUtbWFya2Vycy8yLjAuMi9sZWFmbGV0LmF3ZXNvbWUtbWFya2Vycy5qcyI+PC9zY3JpcHQ+CiAgICA8bGluayByZWw9InN0eWxlc2hlZXQiIGhyZWY9Imh0dHBzOi8vY2RuLmpzZGVsaXZyLm5ldC9ucG0vbGVhZmxldEAxLjYuMC9kaXN0L2xlYWZsZXQuY3NzIi8+CiAgICA8bGluayByZWw9InN0eWxlc2hlZXQiIGhyZWY9Imh0dHBzOi8vbWF4Y2RuLmJvb3RzdHJhcGNkbi5jb20vYm9vdHN0cmFwLzMuMi4wL2Nzcy9ib290c3RyYXAubWluLmNzcyIvPgogICAgPGxpbmsgcmVsPSJzdHlsZXNoZWV0IiBocmVmPSJodHRwczovL21heGNkbi5ib290c3RyYXBjZG4uY29tL2Jvb3RzdHJhcC8zLjIuMC9jc3MvYm9vdHN0cmFwLXRoZW1lLm1pbi5jc3MiLz4KICAgIDxsaW5rIHJlbD0ic3R5bGVzaGVldCIgaHJlZj0iaHR0cHM6Ly9tYXhjZG4uYm9vdHN0cmFwY2RuLmNvbS9mb250LWF3ZXNvbWUvNC42LjMvY3NzL2ZvbnQtYXdlc29tZS5taW4uY3NzIi8+CiAgICA8bGluayByZWw9InN0eWxlc2hlZXQiIGhyZWY9Imh0dHBzOi8vY2RuanMuY2xvdWRmbGFyZS5jb20vYWpheC9saWJzL0xlYWZsZXQuYXdlc29tZS1tYXJrZXJzLzIuMC4yL2xlYWZsZXQuYXdlc29tZS1tYXJrZXJzLmNzcyIvPgogICAgPGxpbmsgcmVsPSJzdHlsZXNoZWV0IiBocmVmPSJodHRwczovL3Jhd2Nkbi5naXRoYWNrLmNvbS9weXRob24tdmlzdWFsaXphdGlvbi9mb2xpdW0vbWFzdGVyL2ZvbGl1bS90ZW1wbGF0ZXMvbGVhZmxldC5hd2Vzb21lLnJvdGF0ZS5jc3MiLz4KICAgIDxzdHlsZT5odG1sLCBib2R5IHt3aWR0aDogMTAwJTtoZWlnaHQ6IDEwMCU7bWFyZ2luOiAwO3BhZGRpbmc6IDA7fTwvc3R5bGU+CiAgICA8c3R5bGU+I21hcCB7cG9zaXRpb246YWJzb2x1dGU7dG9wOjA7Ym90dG9tOjA7cmlnaHQ6MDtsZWZ0OjA7fTwvc3R5bGU+CiAgICAKICAgICAgICAgICAgPG1ldGEgbmFtZT0idmlld3BvcnQiIGNvbnRlbnQ9IndpZHRoPWRldmljZS13aWR0aCwKICAgICAgICAgICAgICAgIGluaXRpYWwtc2NhbGU9MS4wLCBtYXhpbXVtLXNjYWxlPTEuMCwgdXNlci1zY2FsYWJsZT1ubyIgLz4KICAgICAgICAgICAgPHN0eWxlPgogICAgICAgICAgICAgICAgI21hcF8yNGI2MmEyYzYxOTA0OTZmOTgxZjkxYTY5NTMyOGM3MiB7CiAgICAgICAgICAgICAgICAgICAgcG9zaXRpb246IHJlbGF0aXZlOwogICAgICAgICAgICAgICAgICAgIHdpZHRoOiAxMDAuMCU7CiAgICAgICAgICAgICAgICAgICAgaGVpZ2h0OiAxMDAuMCU7CiAgICAgICAgICAgICAgICAgICAgbGVmdDogMC4wJTsKICAgICAgICAgICAgICAgICAgICB0b3A6IDAuMCU7CiAgICAgICAgICAgICAgICB9CiAgICAgICAgICAgIDwvc3R5bGU+CiAgICAgICAgCiAgICA8c2NyaXB0IHNyYz0iaHR0cHM6Ly9jZG5qcy5jbG91ZGZsYXJlLmNvbS9hamF4L2xpYnMvbGVhZmxldC5tYXJrZXJjbHVzdGVyLzEuMS4wL2xlYWZsZXQubWFya2VyY2x1c3Rlci5qcyI+PC9zY3JpcHQ+CiAgICA8bGluayByZWw9InN0eWxlc2hlZXQiIGhyZWY9Imh0dHBzOi8vY2RuanMuY2xvdWRmbGFyZS5jb20vYWpheC9saWJzL2xlYWZsZXQubWFya2VyY2x1c3Rlci8xLjEuMC9NYXJrZXJDbHVzdGVyLmNzcyIvPgogICAgPGxpbmsgcmVsPSJzdHlsZXNoZWV0IiBocmVmPSJodHRwczovL2NkbmpzLmNsb3VkZmxhcmUuY29tL2FqYXgvbGlicy9sZWFmbGV0Lm1hcmtlcmNsdXN0ZXIvMS4xLjAvTWFya2VyQ2x1c3Rlci5EZWZhdWx0LmNzcyIvPgo8L2hlYWQ+Cjxib2R5PiAgICAKICAgIAogICAgICAgICAgICA8ZGl2IGNsYXNzPSJmb2xpdW0tbWFwIiBpZD0ibWFwXzI0YjYyYTJjNjE5MDQ5NmY5ODFmOTFhNjk1MzI4YzcyIiA+PC9kaXY+CiAgICAgICAgCjwvYm9keT4KPHNjcmlwdD4gICAgCiAgICAKICAgICAgICAgICAgdmFyIG1hcF8yNGI2MmEyYzYxOTA0OTZmOTgxZjkxYTY5NTMyOGM3MiA9IEwubWFwKAogICAgICAgICAgICAgICAgIm1hcF8yNGI2MmEyYzYxOTA0OTZmOTgxZjkxYTY5NTMyOGM3MiIsCiAgICAgICAgICAgICAgICB7CiAgICAgICAgICAgICAgICAgICAgY2VudGVyOiBbNDUuNTAxNywgLTczLjU2NzNdLAogICAgICAgICAgICAgICAgICAgIGNyczogTC5DUlMuRVBTRzM4NTcsCiAgICAgICAgICAgICAgICAgICAgem9vbTogMywKICAgICAgICAgICAgICAgICAgICB6b29tQ29udHJvbDogdHJ1ZSwKICAgICAgICAgICAgICAgICAgICBwcmVmZXJDYW52YXM6IGZhbHNlLAogICAgICAgICAgICAgICAgfQogICAgICAgICAgICApOwoKICAgICAgICAgICAgCgogICAgICAgIAogICAgCiAgICAgICAgICAgIHZhciB0aWxlX2xheWVyXzI4MTBkMmRhNDRhYzRkODk4MzZkZGE2ODhjZTkwZjE4ID0gTC50aWxlTGF5ZXIoCiAgICAgICAgICAgICAgICAiaHR0cHM6Ly97c30udGlsZS5vcGVuc3RyZWV0bWFwLm9yZy97en0ve3h9L3t5fS5wbmciLAogICAgICAgICAgICAgICAgeyJhdHRyaWJ1dGlvbiI6ICJEYXRhIGJ5IFx1MDAyNmNvcHk7IFx1MDAzY2EgaHJlZj1cImh0dHA6Ly9vcGVuc3RyZWV0bWFwLm9yZ1wiXHUwMDNlT3BlblN0cmVldE1hcFx1MDAzYy9hXHUwMDNlLCB1bmRlciBcdTAwM2NhIGhyZWY9XCJodHRwOi8vd3d3Lm9wZW5zdHJlZXRtYXAub3JnL2NvcHlyaWdodFwiXHUwMDNlT0RiTFx1MDAzYy9hXHUwMDNlLiIsICJkZXRlY3RSZXRpbmEiOiBmYWxzZSwgIm1heE5hdGl2ZVpvb20iOiAxOCwgIm1heFpvb20iOiAxOCwgIm1pblpvb20iOiAwLCAibm9XcmFwIjogZmFsc2UsICJvcGFjaXR5IjogMSwgInN1YmRvbWFpbnMiOiAiYWJjIiwgInRtcyI6IGZhbHNlfQogICAgICAgICAgICApLmFkZFRvKG1hcF8yNGI2MmEyYzYxOTA0OTZmOTgxZjkxYTY5NTMyOGM3Mik7CiAgICAgICAgCiAgICAKICAgICAgICAgICAgdmFyIG1hcmtlcl9jbHVzdGVyXzM3NGFiZDYzOGQwMTRjYzU5MzgxYmZlNDdiMmE1NDI5ID0gTC5tYXJrZXJDbHVzdGVyR3JvdXAoCiAgICAgICAgICAgICAgICB7fQogICAgICAgICAgICApOwogICAgICAgICAgICBtYXBfMjRiNjJhMmM2MTkwNDk2Zjk4MWY5MWE2OTUzMjhjNzIuYWRkTGF5ZXIobWFya2VyX2NsdXN0ZXJfMzc0YWJkNjM4ZDAxNGNjNTkzODFiZmU0N2IyYTU0MjkpOwogICAgICAgIAogICAgCiAgICAgICAgICAgIHZhciBtYXJrZXJfOWM3NmQwN2ZlYzEwNDJjZDgzNjU4YWZiOTMwZTQ1OTQgPSBMLm1hcmtlcigKICAgICAgICAgICAgICAgIFs0My42NzAyMzMsIC03OS4zODY3NTVdLAogICAgICAgICAgICAgICAge30KICAgICAgICAgICAgKS5hZGRUbyhtYXJrZXJfY2x1c3Rlcl8zNzRhYmQ2MzhkMDE0Y2M1OTM4MWJmZTQ3YjJhNTQyOSk7CiAgICAgICAgCiAgICAKICAgICAgICAgICAgdmFyIG1hcmtlcl8xYTE3MWUxNWU4YjM0ZDE2OTFhYzgwZjY4N2UzODE1MiA9IEwubWFya2VyKAogICAgICAgICAgICAgICAgWzQzLjY3MDIzMywgLTc5LjM4Njc1NV0sCiAgICAgICAgICAgICAgICB7fQogICAgICAgICAgICApLmFkZFRvKG1hcmtlcl9jbHVzdGVyXzM3NGFiZDYzOGQwMTRjYzU5MzgxYmZlNDdiMmE1NDI5KTsKICAgICAgICAKICAgIAogICAgICAgICAgICB2YXIgbWFya2VyX2UzZDc3NDBiZmNhNTQ5YWE5MTE4NDgwZmFkNjBhZWFlID0gTC5tYXJrZXIoCiAgICAgICAgICAgICAgICBbNDMuNjcwMjMzLCAtNzkuMzg2NzU1XSwKICAgICAgICAgICAgICAgIHt9CiAgICAgICAgICAgICkuYWRkVG8obWFya2VyX2NsdXN0ZXJfMzc0YWJkNjM4ZDAxNGNjNTkzODFiZmU0N2IyYTU0MjkpOwogICAgICAgIAogICAgCiAgICAgICAgICAgIHZhciBtYXJrZXJfYjAxYzM5MDc4OGExNGY1YWI1YTU2NThlZTc5NzgyYTEgPSBMLm1hcmtlcigKICAgICAgICAgICAgICAgIFs0My42NzAyMzMsIC03OS4zODY3NTVdLAogICAgICAgICAgICAgICAge30KICAgICAgICAgICAgKS5hZGRUbyhtYXJrZXJfY2x1c3Rlcl8zNzRhYmQ2MzhkMDE0Y2M1OTM4MWJmZTQ3YjJhNTQyOSk7CiAgICAgICAgCiAgICAKICAgICAgICAgICAgdmFyIG1hcmtlcl9lMDdlZjBmYzRmYWQ0NWUwOGMwMzA3ZTE1YTk2OTQ0YyA9IEwubWFya2VyKAogICAgICAgICAgICAgICAgWzQzLjY3MDIzMywgLTc5LjM4Njc1NV0sCiAgICAgICAgICAgICAgICB7fQogICAgICAgICAgICApLmFkZFRvKG1hcmtlcl9jbHVzdGVyXzM3NGFiZDYzOGQwMTRjYzU5MzgxYmZlNDdiMmE1NDI5KTsKICAgICAgICAKICAgIAogICAgICAgICAgICB2YXIgbWFya2VyX2NkMjA3NjEzOTg3YzQ2NTBhOWI4NWM5NjlmNzIxMjRiID0gTC5tYXJrZXIoCiAgICAgICAgICAgICAgICBbNDMuNjcwMjMzLCAtNzkuMzg2NzU1XSwKICAgICAgICAgICAgICAgIHt9CiAgICAgICAgICAgICkuYWRkVG8obWFya2VyX2NsdXN0ZXJfMzc0YWJkNjM4ZDAxNGNjNTkzODFiZmU0N2IyYTU0MjkpOwogICAgICAgIAogICAgCiAgICAgICAgICAgIHZhciBtYXJrZXJfM2RiMzY1Mjk3NGNmNDQ0ZDgzMjBlOGE3ZmRhN2Y5NjYgPSBMLm1hcmtlcigKICAgICAgICAgICAgICAgIFs0My42NzAyMzMsIC03OS4zODY3NTVdLAogICAgICAgICAgICAgICAge30KICAgICAgICAgICAgKS5hZGRUbyhtYXJrZXJfY2x1c3Rlcl8zNzRhYmQ2MzhkMDE0Y2M1OTM4MWJmZTQ3YjJhNTQyOSk7CiAgICAgICAgCiAgICAKICAgICAgICAgICAgdmFyIG1hcmtlcl81ZTE0NmRmOWFmNDk0ZTRmODQ1Y2E3NjNhMjA4OWEzNCA9IEwubWFya2VyKAogICAgICAgICAgICAgICAgWzQzLjY3MDIzMywgLTc5LjM4Njc1NV0sCiAgICAgICAgICAgICAgICB7fQogICAgICAgICAgICApLmFkZFRvKG1hcmtlcl9jbHVzdGVyXzM3NGFiZDYzOGQwMTRjYzU5MzgxYmZlNDdiMmE1NDI5KTsKICAgICAgICAKICAgIAogICAgICAgICAgICB2YXIgbWFya2VyXzA3MmMwNTYwOWE3MTRmZGViNmU3NzE5MWEyMDMxNTgwID0gTC5tYXJrZXIoCiAgICAgICAgICAgICAgICBbNDMuNjcwMjMzLCAtNzkuMzg2NzU1XSwKICAgICAgICAgICAgICAgIHt9CiAgICAgICAgICAgICkuYWRkVG8obWFya2VyX2NsdXN0ZXJfMzc0YWJkNjM4ZDAxNGNjNTkzODFiZmU0N2IyYTU0MjkpOwogICAgICAgIAogICAgCiAgICAgICAgICAgIHZhciBtYXJrZXJfMTMyMzY0ZWNiODQzNGY2ZDk0ZDlhNzIxODI3YjFhYTggPSBMLm1hcmtlcigKICAgICAgICAgICAgICAgIFs0My42NzAyMzMsIC03OS4zODY3NTVdLAogICAgICAgICAgICAgICAge30KICAgICAgICAgICAgKS5hZGRUbyhtYXJrZXJfY2x1c3Rlcl8zNzRhYmQ2MzhkMDE0Y2M1OTM4MWJmZTQ3YjJhNTQyOSk7CiAgICAgICAgCiAgICAKICAgICAgICAgICAgdmFyIG1hcmtlcl9iZjZhN2Q0YzIyMTU0MzliYmMwYjhiNGJlY2NhMzJmZCA9IEwubWFya2VyKAogICAgICAgICAgICAgICAgWzQzLjY3MDIzMywgLTc5LjM4Njc1NV0sCiAgICAgICAgICAgICAgICB7fQogICAgICAgICAgICApLmFkZFRvKG1hcmtlcl9jbHVzdGVyXzM3NGFiZDYzOGQwMTRjYzU5MzgxYmZlNDdiMmE1NDI5KTsKICAgICAgICAKICAgIAogICAgICAgICAgICB2YXIgbWFya2VyXzUzMWY5Nzg4YjI3YjRiN2M4MThkYWQ5MWJhZTg0ZmFiID0gTC5tYXJrZXIoCiAgICAgICAgICAgICAgICBbNDMuNjcwMjMzLCAtNzkuMzg2NzU1XSwKICAgICAgICAgICAgICAgIHt9CiAgICAgICAgICAgICkuYWRkVG8obWFya2VyX2NsdXN0ZXJfMzc0YWJkNjM4ZDAxNGNjNTkzODFiZmU0N2IyYTU0MjkpOwogICAgICAgIAogICAgCiAgICAgICAgICAgIHZhciBtYXJrZXJfMTBmOTgwZWI1NmMyNGVkZmE5YzU5ODM4ZGRlY2NhODggPSBMLm1hcmtlcigKICAgICAgICAgICAgICAgIFs0My42NzAyMzMsIC03OS4zODY3NTVdLAogICAgICAgICAgICAgICAge30KICAgICAgICAgICAgKS5hZGRUbyhtYXJrZXJfY2x1c3Rlcl8zNzRhYmQ2MzhkMDE0Y2M1OTM4MWJmZTQ3YjJhNTQyOSk7CiAgICAgICAgCiAgICAKICAgICAgICAgICAgdmFyIG1hcmtlcl82YzU3NjI2MmYxOWY0YzRhOWE2ZjBhNThhMzMwMjkyZSA9IEwubWFya2VyKAogICAgICAgICAgICAgICAgWzQzLjY3MDIzMywgLTc5LjM4Njc1NV0sCiAgICAgICAgICAgICAgICB7fQogICAgICAgICAgICApLmFkZFRvKG1hcmtlcl9jbHVzdGVyXzM3NGFiZDYzOGQwMTRjYzU5MzgxYmZlNDdiMmE1NDI5KTsKICAgICAgICAKICAgIAogICAgICAgICAgICB2YXIgbWFya2VyX2Q2ZTExZjkzOWVjZjRhZTNiYTg0ZTE4NWI5ZDQwZmRjID0gTC5tYXJrZXIoCiAgICAgICAgICAgICAgICBbNDMuNjcwMjMzLCAtNzkuMzg2NzU1XSwKICAgICAgICAgICAgICAgIHt9CiAgICAgICAgICAgICkuYWRkVG8obWFya2VyX2NsdXN0ZXJfMzc0YWJkNjM4ZDAxNGNjNTkzODFiZmU0N2IyYTU0MjkpOwogICAgICAgIAogICAgCiAgICAgICAgICAgIHZhciBtYXJrZXJfMWM3YmYxM2ViNTI2NDM1MjgyYWNjNGQ5ODZmMmM2OGUgPSBMLm1hcmtlcigKICAgICAgICAgICAgICAgIFs0My42NzAyMzMsIC03OS4zODY3NTVdLAogICAgICAgICAgICAgICAge30KICAgICAgICAgICAgKS5hZGRUbyhtYXJrZXJfY2x1c3Rlcl8zNzRhYmQ2MzhkMDE0Y2M1OTM4MWJmZTQ3YjJhNTQyOSk7CiAgICAgICAgCiAgICAKICAgICAgICAgICAgdmFyIG1hcmtlcl8xM2ZlZjkxY2FkOTU0NGJmOWFhMGFiNmIyNzgyOTc5YyA9IEwubWFya2VyKAogICAgICAgICAgICAgICAgWzQzLjY3MDIzMywgLTc5LjM4Njc1NV0sCiAgICAgICAgICAgICAgICB7fQogICAgICAgICAgICApLmFkZFRvKG1hcmtlcl9jbHVzdGVyXzM3NGFiZDYzOGQwMTRjYzU5MzgxYmZlNDdiMmE1NDI5KTsKICAgICAgICAKICAgIAogICAgICAgICAgICB2YXIgbWFya2VyX2JhZWQ1YjEwYmMwZDQ1YTlhNWEzNTI3YzA4MmNkYzE2ID0gTC5tYXJrZXIoCiAgICAgICAgICAgICAgICBbNDMuNjcwMjMzLCAtNzkuMzg2NzU1XSwKICAgICAgICAgICAgICAgIHt9CiAgICAgICAgICAgICkuYWRkVG8obWFya2VyX2NsdXN0ZXJfMzc0YWJkNjM4ZDAxNGNjNTkzODFiZmU0N2IyYTU0MjkpOwogICAgICAgIAogICAgCiAgICAgICAgICAgIHZhciBtYXJrZXJfZjQzNzZkYThmNmNlNDEwODk2NmUxODdkNzI5YWY2MDAgPSBMLm1hcmtlcigKICAgICAgICAgICAgICAgIFs0My42NzAyMzMsIC03OS4zODY3NTVdLAogICAgICAgICAgICAgICAge30KICAgICAgICAgICAgKS5hZGRUbyhtYXJrZXJfY2x1c3Rlcl8zNzRhYmQ2MzhkMDE0Y2M1OTM4MWJmZTQ3YjJhNTQyOSk7CiAgICAgICAgCiAgICAKICAgICAgICAgICAgdmFyIG1hcmtlcl85MjVkMzhmOTNlZjQ0MDcxODQ2MzExZDQ3ZWViNDkwMyA9IEwubWFya2VyKAogICAgICAgICAgICAgICAgWzQzLjY3MDIzMywgLTc5LjM4Njc1NV0sCiAgICAgICAgICAgICAgICB7fQogICAgICAgICAgICApLmFkZFRvKG1hcmtlcl9jbHVzdGVyXzM3NGFiZDYzOGQwMTRjYzU5MzgxYmZlNDdiMmE1NDI5KTsKICAgICAgICAKICAgIAogICAgICAgICAgICB2YXIgbWFya2VyXzg0YmQ5NTg0ODhlYjRjMmE4NGVhMDlmNWNjYzQzM2Y2ID0gTC5tYXJrZXIoCiAgICAgICAgICAgICAgICBbNDMuNjcwMjMzLCAtNzkuMzg2NzU1XSwKICAgICAgICAgICAgICAgIHt9CiAgICAgICAgICAgICkuYWRkVG8obWFya2VyX2NsdXN0ZXJfMzc0YWJkNjM4ZDAxNGNjNTkzODFiZmU0N2IyYTU0MjkpOwogICAgICAgIAogICAgCiAgICAgICAgICAgIHZhciBtYXJrZXJfZWRjZjRkZmUwNWQyNDgwMjljZDk2NzI0NjRiNGYxMTQgPSBMLm1hcmtlcigKICAgICAgICAgICAgICAgIFs0My42NzAyMzMsIC03OS4zODY3NTVdLAogICAgICAgICAgICAgICAge30KICAgICAgICAgICAgKS5hZGRUbyhtYXJrZXJfY2x1c3Rlcl8zNzRhYmQ2MzhkMDE0Y2M1OTM4MWJmZTQ3YjJhNTQyOSk7CiAgICAgICAgCiAgICAKICAgICAgICAgICAgdmFyIG1hcmtlcl9lNWVkYWQzNjlkODQ0NjgzODZlOWQ2ZTJlMzU2ODZkOCA9IEwubWFya2VyKAogICAgICAgICAgICAgICAgWzQ1LjU0NTQ0NywgLTczLjYzOTA3Nl0sCiAgICAgICAgICAgICAgICB7fQogICAgICAgICAgICApLmFkZFRvKG1hcmtlcl9jbHVzdGVyXzM3NGFiZDYzOGQwMTRjYzU5MzgxYmZlNDdiMmE1NDI5KTsKICAgICAgICAKICAgIAogICAgICAgICAgICB2YXIgbWFya2VyXzczYjg2YjQ2MzFiMzRkMGY5MWJiOGNmMzgxNjUxZDQyID0gTC5tYXJrZXIoCiAgICAgICAgICAgICAgICBbNDkuMjYzNTg4LCAtMTIzLjEzODU2NV0sCiAgICAgICAgICAgICAgICB7fQogICAgICAgICAgICApLmFkZFRvKG1hcmtlcl9jbHVzdGVyXzM3NGFiZDYzOGQwMTRjYzU5MzgxYmZlNDdiMmE1NDI5KTsKICAgICAgICAKICAgIAogICAgICAgICAgICB2YXIgbWFya2VyXzJkMzdhODk1MWI3ZDQwZjdhYjMzYTU5OGY2NGIzMDhmID0gTC5tYXJrZXIoCiAgICAgICAgICAgICAgICBbNDkuMjYzNTg4LCAtMTIzLjEzODU2NV0sCiAgICAgICAgICAgICAgICB7fQogICAgICAgICAgICApLmFkZFRvKG1hcmtlcl9jbHVzdGVyXzM3NGFiZDYzOGQwMTRjYzU5MzgxYmZlNDdiMmE1NDI5KTsKICAgICAgICAKICAgIAogICAgICAgICAgICB2YXIgbWFya2VyX2E5NmU2Y2NmOTZhMDRiYTZhNGVlZWFlMGE4ZWVkMGRlID0gTC5tYXJrZXIoCiAgICAgICAgICAgICAgICBbNDUuNTQ1NDQ3LCAtNzMuNjM5MDc2XSwKICAgICAgICAgICAgICAgIHt9CiAgICAgICAgICAgICkuYWRkVG8obWFya2VyX2NsdXN0ZXJfMzc0YWJkNjM4ZDAxNGNjNTkzODFiZmU0N2IyYTU0MjkpOwogICAgICAgIAogICAgCiAgICAgICAgICAgIHZhciBtYXJrZXJfNGE2M2U3ZTNkOWFhNGM5YmE1YjJkY2I5Y2FmYjlhMTUgPSBMLm1hcmtlcigKICAgICAgICAgICAgICAgIFs0OS4yNjM1ODgsIC0xMjMuMTM4NTY1XSwKICAgICAgICAgICAgICAgIHt9CiAgICAgICAgICAgICkuYWRkVG8obWFya2VyX2NsdXN0ZXJfMzc0YWJkNjM4ZDAxNGNjNTkzODFiZmU0N2IyYTU0MjkpOwogICAgICAgIAogICAgCiAgICAgICAgICAgIHZhciBtYXJrZXJfMDIyY2NmZDAyMjBmNGZhY2FiNGVjZjgxY2ZkYmMyN2UgPSBMLm1hcmtlcigKICAgICAgICAgICAgICAgIFs0NS41NDU0NDcsIC03My42MzkwNzZdLAogICAgICAgICAgICAgICAge30KICAgICAgICAgICAgKS5hZGRUbyhtYXJrZXJfY2x1c3Rlcl8zNzRhYmQ2MzhkMDE0Y2M1OTM4MWJmZTQ3YjJhNTQyOSk7CiAgICAgICAgCiAgICAKICAgICAgICAgICAgdmFyIG1hcmtlcl84MDVjNTE0NWRkNjU0ODMyYTRlMzQ2MzA3MGJjZWNkMCA9IEwubWFya2VyKAogICAgICAgICAgICAgICAgWzQ1LjU0NTQ0NywgLTczLjYzOTA3Nl0sCiAgICAgICAgICAgICAgICB7fQogICAgICAgICAgICApLmFkZFRvKG1hcmtlcl9jbHVzdGVyXzM3NGFiZDYzOGQwMTRjYzU5MzgxYmZlNDdiMmE1NDI5KTsKICAgICAgICAKICAgIAogICAgICAgICAgICB2YXIgbWFya2VyXzFhN2FmY2RkMzNlZDQzYTNhNzlhYTJiNTYwMGZkN2U5ID0gTC5tYXJrZXIoCiAgICAgICAgICAgICAgICBbNDUuNTQ1NDQ3LCAtNzMuNjM5MDc2XSwKICAgICAgICAgICAgICAgIHt9CiAgICAgICAgICAgICkuYWRkVG8obWFya2VyX2NsdXN0ZXJfMzc0YWJkNjM4ZDAxNGNjNTkzODFiZmU0N2IyYTU0MjkpOwogICAgICAgIAogICAgCiAgICAgICAgICAgIHZhciBtYXJrZXJfMDE0ZWU4YmZmNzI3NDU5NWJhNDk0NDY4OWVlMzYzOGQgPSBMLm1hcmtlcigKICAgICAgICAgICAgICAgIFs0NS41NDU0NDcsIC03My42MzkwNzZdLAogICAgICAgICAgICAgICAge30KICAgICAgICAgICAgKS5hZGRUbyhtYXJrZXJfY2x1c3Rlcl8zNzRhYmQ2MzhkMDE0Y2M1OTM4MWJmZTQ3YjJhNTQyOSk7CiAgICAgICAgCiAgICAKICAgICAgICAgICAgdmFyIG1hcmtlcl9kYWI1MWQ2ZGRmNmE0MGE5YTg2N2IyNzQxMzY3ZWEyOCA9IEwubWFya2VyKAogICAgICAgICAgICAgICAgWzQ5LjI2MzU4OCwgLTEyMy4xMzg1NjVdLAogICAgICAgICAgICAgICAge30KICAgICAgICAgICAgKS5hZGRUbyhtYXJrZXJfY2x1c3Rlcl8zNzRhYmQ2MzhkMDE0Y2M1OTM4MWJmZTQ3YjJhNTQyOSk7CiAgICAgICAgCiAgICAKICAgICAgICAgICAgdmFyIG1hcmtlcl8wYmRjNmZmN2M2YmM0Mzk2OGM3ODFiOTMzMmJiNmJlMyA9IEwubWFya2VyKAogICAgICAgICAgICAgICAgWzQ5LjI2MzU4OCwgLTEyMy4xMzg1NjVdLAogICAgICAgICAgICAgICAge30KICAgICAgICAgICAgKS5hZGRUbyhtYXJrZXJfY2x1c3Rlcl8zNzRhYmQ2MzhkMDE0Y2M1OTM4MWJmZTQ3YjJhNTQyOSk7CiAgICAgICAgCiAgICAKICAgICAgICAgICAgdmFyIG1hcmtlcl9hOTJjYjMxOTZjZGE0ZmMyYWQ3MjM4YmQwZTNkZTQ4ZCA9IEwubWFya2VyKAogICAgICAgICAgICAgICAgWzQ1LjU0NTQ0NywgLTczLjYzOTA3Nl0sCiAgICAgICAgICAgICAgICB7fQogICAgICAgICAgICApLmFkZFRvKG1hcmtlcl9jbHVzdGVyXzM3NGFiZDYzOGQwMTRjYzU5MzgxYmZlNDdiMmE1NDI5KTsKICAgICAgICAKICAgIAogICAgICAgICAgICB2YXIgbWFya2VyXzEzMzQ1YzIyMjkxYzQxOTJiYWUzMTI0NmUyYjQxMDk0ID0gTC5tYXJrZXIoCiAgICAgICAgICAgICAgICBbNDkuMjYzNTg4LCAtMTIzLjEzODU2NV0sCiAgICAgICAgICAgICAgICB7fQogICAgICAgICAgICApLmFkZFRvKG1hcmtlcl9jbHVzdGVyXzM3NGFiZDYzOGQwMTRjYzU5MzgxYmZlNDdiMmE1NDI5KTsKICAgICAgICAKICAgIAogICAgICAgICAgICB2YXIgbWFya2VyXzI2M2Y2ZjA5NTIxNDRmNmY5YjlkMDI1YWMyZDJlMTdkID0gTC5tYXJrZXIoCiAgICAgICAgICAgICAgICBbNDkuMjYzNTg4LCAtMTIzLjEzODU2NV0sCiAgICAgICAgICAgICAgICB7fQogICAgICAgICAgICApLmFkZFRvKG1hcmtlcl9jbHVzdGVyXzM3NGFiZDYzOGQwMTRjYzU5MzgxYmZlNDdiMmE1NDI5KTsKICAgICAgICAKICAgIAogICAgICAgICAgICB2YXIgbWFya2VyXzZlZDE4YjVkYjYxMzRjZGRiYTM5Yjk0MzQxZTQ5ZjE0ID0gTC5tYXJrZXIoCiAgICAgICAgICAgICAgICBbNDUuNTQ1NDQ3LCAtNzMuNjM5MDc2XSwKICAgICAgICAgICAgICAgIHt9CiAgICAgICAgICAgICkuYWRkVG8obWFya2VyX2NsdXN0ZXJfMzc0YWJkNjM4ZDAxNGNjNTkzODFiZmU0N2IyYTU0MjkpOwogICAgICAgIAogICAgCiAgICAgICAgICAgIHZhciBtYXJrZXJfMjY4YzBkZmJlNWJhNDNkODk4ZDViYjM1YzU4ZTFkNjEgPSBMLm1hcmtlcigKICAgICAgICAgICAgICAgIFs0OS4yNjM1ODgsIC0xMjMuMTM4NTY1XSwKICAgICAgICAgICAgICAgIHt9CiAgICAgICAgICAgICkuYWRkVG8obWFya2VyX2NsdXN0ZXJfMzc0YWJkNjM4ZDAxNGNjNTkzODFiZmU0N2IyYTU0MjkpOwogICAgICAgIAogICAgCiAgICAgICAgICAgIHZhciBtYXJrZXJfZDEzZGYwYWNmYjk4NGE2MzlmMDg3NDUzOWNmOGMxOWQgPSBMLm1hcmtlcigKICAgICAgICAgICAgICAgIFs0NS41NDU0NDcsIC03My42MzkwNzZdLAogICAgICAgICAgICAgICAge30KICAgICAgICAgICAgKS5hZGRUbyhtYXJrZXJfY2x1c3Rlcl8zNzRhYmQ2MzhkMDE0Y2M1OTM4MWJmZTQ3YjJhNTQyOSk7CiAgICAgICAgCiAgICAKICAgICAgICAgICAgdmFyIG1hcmtlcl8yYTM0NDk4ZDU1ZjY0ODI4YjZmYzQzNDU3YjJkODdlMyA9IEwubWFya2VyKAogICAgICAgICAgICAgICAgWzQ1LjU0NTQ0NywgLTczLjYzOTA3Nl0sCiAgICAgICAgICAgICAgICB7fQogICAgICAgICAgICApLmFkZFRvKG1hcmtlcl9jbHVzdGVyXzM3NGFiZDYzOGQwMTRjYzU5MzgxYmZlNDdiMmE1NDI5KTsKICAgICAgICAKICAgIAogICAgICAgICAgICB2YXIgbWFya2VyXzQ5YzMwOWMyZDhkNTQ2MDk4ZTFlODgxOGM5YzBhZDBjID0gTC5tYXJrZXIoCiAgICAgICAgICAgICAgICBbNDkuMjYzNTg4LCAtMTIzLjEzODU2NV0sCiAgICAgICAgICAgICAgICB7fQogICAgICAgICAgICApLmFkZFRvKG1hcmtlcl9jbHVzdGVyXzM3NGFiZDYzOGQwMTRjYzU5MzgxYmZlNDdiMmE1NDI5KTsKICAgICAgICAKICAgIAogICAgICAgICAgICB2YXIgbWFya2VyXzI0ODZiZTVhM2IzZDQ0MDI5ZDdkNGJmZTBmZWIwNWIxID0gTC5tYXJrZXIoCiAgICAgICAgICAgICAgICBbNDkuMjYzNTg4LCAtMTIzLjEzODU2NV0sCiAgICAgICAgICAgICAgICB7fQogICAgICAgICAgICApLmFkZFRvKG1hcmtlcl9jbHVzdGVyXzM3NGFiZDYzOGQwMTRjYzU5MzgxYmZlNDdiMmE1NDI5KTsKICAgICAgICAKPC9zY3JpcHQ+ onload=\"this.contentDocument.open();this.contentDocument.write(atob(this.getAttribute('data-html')));this.contentDocument.close();\" allowfullscreen webkitallowfullscreen mozallowfullscreen></iframe></div></div>"
      ],
      "text/plain": [
       "<folium.folium.Map at 0x7f9c2022fc40>"
      ]
     },
     "execution_count": 156,
     "metadata": {},
     "output_type": "execute_result"
    }
   ],
   "source": [
    "m"
   ]
  },
  {
   "cell_type": "code",
   "execution_count": null,
   "metadata": {},
   "outputs": [],
   "source": []
  }
 ],
 "metadata": {
  "kernelspec": {
   "display_name": "Python 3",
   "language": "python",
   "name": "python3"
  },
  "language_info": {
   "codemirror_mode": {
    "name": "ipython",
    "version": 3
   },
   "file_extension": ".py",
   "mimetype": "text/x-python",
   "name": "python",
   "nbconvert_exporter": "python",
   "pygments_lexer": "ipython3",
   "version": "3.8.5"
  }
 },
 "nbformat": 4,
 "nbformat_minor": 4
}
