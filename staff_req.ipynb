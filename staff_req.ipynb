{
 "cells": [
  {
   "cell_type": "code",
   "execution_count": 1,
   "metadata": {},
   "outputs": [],
   "source": [
    "import pandas as pd\n",
    "import re"
   ]
  },
  {
   "cell_type": "code",
   "execution_count": 49,
   "metadata": {},
   "outputs": [],
   "source": [
    " employees = [(20 , 'Designers'),(5,  'UI/UX Engineers'),(15 , 'Data Engineers'),(15 , 'Developers'),(20,  'Account Managers'),(1,  'Maintenance guy'),(10,  'Executives'),(1 , 'CEO')]"
   ]
  },
  {
   "cell_type": "code",
   "execution_count": 50,
   "metadata": {},
   "outputs": [
    {
     "data": {
      "text/html": [
       "<div>\n",
       "<style scoped>\n",
       "    .dataframe tbody tr th:only-of-type {\n",
       "        vertical-align: middle;\n",
       "    }\n",
       "\n",
       "    .dataframe tbody tr th {\n",
       "        vertical-align: top;\n",
       "    }\n",
       "\n",
       "    .dataframe thead th {\n",
       "        text-align: right;\n",
       "    }\n",
       "</style>\n",
       "<table border=\"1\" class=\"dataframe\">\n",
       "  <thead>\n",
       "    <tr style=\"text-align: right;\">\n",
       "      <th></th>\n",
       "      <th>num</th>\n",
       "      <th>pos</th>\n",
       "    </tr>\n",
       "  </thead>\n",
       "  <tbody>\n",
       "    <tr>\n",
       "      <th>0</th>\n",
       "      <td>20</td>\n",
       "      <td>Designers</td>\n",
       "    </tr>\n",
       "    <tr>\n",
       "      <th>1</th>\n",
       "      <td>5</td>\n",
       "      <td>UI/UX Engineers</td>\n",
       "    </tr>\n",
       "    <tr>\n",
       "      <th>2</th>\n",
       "      <td>15</td>\n",
       "      <td>Data Engineers</td>\n",
       "    </tr>\n",
       "    <tr>\n",
       "      <th>3</th>\n",
       "      <td>15</td>\n",
       "      <td>Developers</td>\n",
       "    </tr>\n",
       "    <tr>\n",
       "      <th>4</th>\n",
       "      <td>20</td>\n",
       "      <td>Account Managers</td>\n",
       "    </tr>\n",
       "    <tr>\n",
       "      <th>5</th>\n",
       "      <td>1</td>\n",
       "      <td>Maintenance guy</td>\n",
       "    </tr>\n",
       "    <tr>\n",
       "      <th>6</th>\n",
       "      <td>10</td>\n",
       "      <td>Executives</td>\n",
       "    </tr>\n",
       "    <tr>\n",
       "      <th>7</th>\n",
       "      <td>1</td>\n",
       "      <td>CEO</td>\n",
       "    </tr>\n",
       "  </tbody>\n",
       "</table>\n",
       "</div>"
      ],
      "text/plain": [
       "   num               pos\n",
       "0   20         Designers\n",
       "1    5   UI/UX Engineers\n",
       "2   15    Data Engineers\n",
       "3   15        Developers\n",
       "4   20  Account Managers\n",
       "5    1   Maintenance guy\n",
       "6   10        Executives\n",
       "7    1               CEO"
      ]
     },
     "execution_count": 50,
     "metadata": {},
     "output_type": "execute_result"
    }
   ],
   "source": [
    "df_staff = pd.DataFrame(employees)\n",
    "df_staff.head()\n",
    "df_staff.rename(columns={0:'num', 1:'pos'}, inplace = True)\n",
    "df_staff"
   ]
  },
  {
   "cell_type": "code",
   "execution_count": 51,
   "metadata": {},
   "outputs": [
    {
     "name": "stdout",
     "output_type": "stream",
     "text": [
      " The company has 87 employees\n"
     ]
    }
   ],
   "source": [
    "# Counting Staff to determine office space necessities \n",
    "staff_q = sum(df_staff['num'])\n",
    "print(f\" The company has {staff_q} employees\")"
   ]
  },
  {
   "cell_type": "code",
   "execution_count": 135,
   "metadata": {},
   "outputs": [],
   "source": [
    "requirements = '''Designers like to go to design talks and share knowledget here must be some nearby companies that also do design.\n",
    "30% of the company have at least 1 child.\n",
    "Developers like to be near successful tech startups that have raised at least 1 Million dollars.\n",
    "Executives like Starbucks A LOT, ensure there's a starbucks not to far.\n",
    "Account Managers need to travel a lot.\n",
    "All people in the company have between 25 and 40 years, give them some place to go to party.\n",
    "The CEO is Vegan.\n",
    "The office dog \"Pepe\" needs a hairdresser every month ensure there's one not too far away.\n",
    "Maintenance guy that loves basketball, if you want to make the Mainte\n",
    "num\tpos\n",
    "0\t20\tDesigners\n",
    "1\t5\tUI/UX Engineers\n",
    "2\t15\tData Engineers\n",
    "3\t15\tDevelopers\n",
    "4\t20\tAccount Managers\n",
    "5\t1\tMaintenance guy\n",
    "6\t10\tExecutives\n",
    "7\t1\tCEO\n",
    "nance Guy happy, a basketball stadium must be around 10 Km.'''"
   ]
  },
  {
   "cell_type": "code",
   "execution_count": 136,
   "metadata": {},
   "outputs": [],
   "source": [
    "req2 = requirements.split(\".\")"
   ]
  },
  {
   "cell_type": "code",
   "execution_count": 144,
   "metadata": {},
   "outputs": [
    {
     "data": {
      "text/plain": [
       "[['Designers',\n",
       "  'Designers like to go to design talks and share knowledget here must be some nearby companies that also do design'],\n",
       " ['Developers',\n",
       "  '\\nDevelopers like to be near successful tech startups that have raised at least 1 Million dollars'],\n",
       " ['Executives',\n",
       "  \"\\nExecutives like Starbucks A LOT, ensure there's a starbucks not to far\"],\n",
       " ['Account Managers', '\\nAccount Managers need to travel a lot'],\n",
       " ['CEO', '\\nThe CEO is Vegan'],\n",
       " ['office dog',\n",
       "  '\\nThe office dog \"Pepe\" needs a hairdresser every month ensure there\\'s one not too far away'],\n",
       " ['Maintenance guy',\n",
       "  '\\nMaintenance guy that loves basketball, if you want to make the Maintenance Guy happy, a basketball stadium must be around 10 Km']]"
      ]
     },
     "execution_count": 144,
     "metadata": {},
     "output_type": "execute_result"
    }
   ],
   "source": [
    "employees.append((1,'office dog'))\n",
    "positions = [ele[1] for ele in employees]\n",
    "lst = []\n",
    "req_ass= []\n",
    "dem_emp= []\n",
    "\n",
    "for ele in req2:\n",
    "    for pos in positions: \n",
    "        if pos in ele:\n",
    "            lst.append([pos,ele])\n",
    "            req_ass.append(ele)\n",
    "            dem_emp.append(pos)\n",
    "lst\n",
    "            "
   ]
  },
  {
   "cell_type": "code",
   "execution_count": 145,
   "metadata": {},
   "outputs": [
    {
     "data": {
      "text/plain": [
       "[['Comon requests', '\\n30% of the company have at least 1 child'],\n",
       " ['Comon requests',\n",
       "  '\\nAll people in the company have between 25 and 40 years, give them some place to go to party'],\n",
       " ['Comon requests', '']]"
      ]
     },
     "execution_count": 145,
     "metadata": {},
     "output_type": "execute_result"
    }
   ],
   "source": [
    "comon_req = [['Comon requests', ele] for ele in req2 if ele not in req_ass]\n",
    "comon_req"
   ]
  },
  {
   "cell_type": "code",
   "execution_count": 146,
   "metadata": {},
   "outputs": [
    {
     "data": {
      "text/plain": [
       "[['UI/UX Engineers', 'No specific requirements'],\n",
       " ['Data Engineers', 'No specific requirements']]"
      ]
     },
     "execution_count": 146,
     "metadata": {},
     "output_type": "execute_result"
    }
   ],
   "source": [
    "chill_emp = [[emp, 'No specific requirements'] for emp in positions if emp not in dem_emp]\n",
    "chill_emp"
   ]
  },
  {
   "cell_type": "code",
   "execution_count": 147,
   "metadata": {},
   "outputs": [],
   "source": [
    "summary= lst + comon_req + chill_emp"
   ]
  },
  {
   "cell_type": "code",
   "execution_count": 148,
   "metadata": {},
   "outputs": [],
   "source": [
    "summ = pd.DataFrame(summary)\n",
    "summ.rename(columns={0:'pos', 1:'req'}, inplace = True)"
   ]
  },
  {
   "cell_type": "code",
   "execution_count": 149,
   "metadata": {},
   "outputs": [
    {
     "data": {
      "text/html": [
       "<div>\n",
       "<style scoped>\n",
       "    .dataframe tbody tr th:only-of-type {\n",
       "        vertical-align: middle;\n",
       "    }\n",
       "\n",
       "    .dataframe tbody tr th {\n",
       "        vertical-align: top;\n",
       "    }\n",
       "\n",
       "    .dataframe thead th {\n",
       "        text-align: right;\n",
       "    }\n",
       "</style>\n",
       "<table border=\"1\" class=\"dataframe\">\n",
       "  <thead>\n",
       "    <tr style=\"text-align: right;\">\n",
       "      <th></th>\n",
       "      <th>pos</th>\n",
       "      <th>req</th>\n",
       "      <th>num</th>\n",
       "    </tr>\n",
       "  </thead>\n",
       "  <tbody>\n",
       "    <tr>\n",
       "      <th>3</th>\n",
       "      <td>Account Managers</td>\n",
       "      <td>\\nAccount Managers need to travel a lot</td>\n",
       "      <td>20.0</td>\n",
       "    </tr>\n",
       "    <tr>\n",
       "      <th>4</th>\n",
       "      <td>CEO</td>\n",
       "      <td>\\nThe CEO is Vegan</td>\n",
       "      <td>1.0</td>\n",
       "    </tr>\n",
       "    <tr>\n",
       "      <th>7</th>\n",
       "      <td>Comon requests</td>\n",
       "      <td>\\n30% of the company have at least 1 child</td>\n",
       "      <td>NaN</td>\n",
       "    </tr>\n",
       "    <tr>\n",
       "      <th>8</th>\n",
       "      <td>Comon requests</td>\n",
       "      <td>\\nAll people in the company have between 25 an...</td>\n",
       "      <td>NaN</td>\n",
       "    </tr>\n",
       "    <tr>\n",
       "      <th>11</th>\n",
       "      <td>Data Engineers</td>\n",
       "      <td>No specific requirements</td>\n",
       "      <td>15.0</td>\n",
       "    </tr>\n",
       "    <tr>\n",
       "      <th>0</th>\n",
       "      <td>Designers</td>\n",
       "      <td>Designers like to go to design talks and share...</td>\n",
       "      <td>20.0</td>\n",
       "    </tr>\n",
       "    <tr>\n",
       "      <th>1</th>\n",
       "      <td>Developers</td>\n",
       "      <td>\\nDevelopers like to be near successful tech s...</td>\n",
       "      <td>15.0</td>\n",
       "    </tr>\n",
       "    <tr>\n",
       "      <th>2</th>\n",
       "      <td>Executives</td>\n",
       "      <td>\\nExecutives like Starbucks A LOT, ensure ther...</td>\n",
       "      <td>10.0</td>\n",
       "    </tr>\n",
       "    <tr>\n",
       "      <th>6</th>\n",
       "      <td>Maintenance guy</td>\n",
       "      <td>\\nMaintenance guy that loves basketball, if yo...</td>\n",
       "      <td>1.0</td>\n",
       "    </tr>\n",
       "    <tr>\n",
       "      <th>10</th>\n",
       "      <td>UI/UX Engineers</td>\n",
       "      <td>No specific requirements</td>\n",
       "      <td>5.0</td>\n",
       "    </tr>\n",
       "    <tr>\n",
       "      <th>5</th>\n",
       "      <td>office dog</td>\n",
       "      <td>\\nThe office dog \"Pepe\" needs a hairdresser ev...</td>\n",
       "      <td>NaN</td>\n",
       "    </tr>\n",
       "  </tbody>\n",
       "</table>\n",
       "</div>"
      ],
      "text/plain": [
       "                 pos                                                req   num\n",
       "3   Account Managers            \\nAccount Managers need to travel a lot  20.0\n",
       "4                CEO                                 \\nThe CEO is Vegan   1.0\n",
       "7     Comon requests         \\n30% of the company have at least 1 child   NaN\n",
       "8     Comon requests  \\nAll people in the company have between 25 an...   NaN\n",
       "11    Data Engineers                           No specific requirements  15.0\n",
       "0          Designers  Designers like to go to design talks and share...  20.0\n",
       "1         Developers  \\nDevelopers like to be near successful tech s...  15.0\n",
       "2         Executives  \\nExecutives like Starbucks A LOT, ensure ther...  10.0\n",
       "6    Maintenance guy  \\nMaintenance guy that loves basketball, if yo...   1.0\n",
       "10   UI/UX Engineers                           No specific requirements   5.0\n",
       "5         office dog  \\nThe office dog \"Pepe\" needs a hairdresser ev...   NaN"
      ]
     },
     "execution_count": 149,
     "metadata": {},
     "output_type": "execute_result"
    }
   ],
   "source": [
    "staff_sumary = summ.merge(df_staff, on='pos', how='outer')\n",
    "staff_sumary = staff_sumary.sort_values(by='pos')\n",
    "\n",
    "staff_sumary =  staff_sumary[staff_sumary['req']!=\"\"]\n",
    "staff_sumary"
   ]
  },
  {
   "cell_type": "code",
   "execution_count": 150,
   "metadata": {},
   "outputs": [],
   "source": [
    "staff_sumary.to_csv('staff_sumary.csv')"
   ]
  },
  {
   "cell_type": "code",
   "execution_count": null,
   "metadata": {},
   "outputs": [],
   "source": []
  },
  {
   "cell_type": "code",
   "execution_count": null,
   "metadata": {},
   "outputs": [],
   "source": []
  }
 ],
 "metadata": {
  "kernelspec": {
   "display_name": "Python 3",
   "language": "python",
   "name": "python3"
  },
  "language_info": {
   "codemirror_mode": {
    "name": "ipython",
    "version": 3
   },
   "file_extension": ".py",
   "mimetype": "text/x-python",
   "name": "python",
   "nbconvert_exporter": "python",
   "pygments_lexer": "ipython3",
   "version": "3.8.5"
  }
 },
 "nbformat": 4,
 "nbformat_minor": 4
}
