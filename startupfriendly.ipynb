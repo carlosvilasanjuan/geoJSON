{
 "cells": [
  {
   "cell_type": "code",
   "execution_count": 1,
   "metadata": {},
   "outputs": [],
   "source": [
    "import pandas as pd"
   ]
  },
  {
   "cell_type": "code",
   "execution_count": 31,
   "metadata": {},
   "outputs": [],
   "source": [
    "wb_eodb = pd.read_csv(\"../geoJSON/data/DBData.csv\", encoding=\"utf-8\")"
   ]
  },
  {
   "cell_type": "code",
   "execution_count": 32,
   "metadata": {},
   "outputs": [
    {
     "data": {
      "text/html": [
       "<div>\n",
       "<style scoped>\n",
       "    .dataframe tbody tr th:only-of-type {\n",
       "        vertical-align: middle;\n",
       "    }\n",
       "\n",
       "    .dataframe tbody tr th {\n",
       "        vertical-align: top;\n",
       "    }\n",
       "\n",
       "    .dataframe thead th {\n",
       "        text-align: right;\n",
       "    }\n",
       "</style>\n",
       "<table border=\"1\" class=\"dataframe\">\n",
       "  <thead>\n",
       "    <tr style=\"text-align: right;\">\n",
       "      <th></th>\n",
       "      <th>Country Name</th>\n",
       "      <th>Country Code</th>\n",
       "      <th>Indicator Name</th>\n",
       "      <th>Indicator Code</th>\n",
       "      <th>2004</th>\n",
       "      <th>2005</th>\n",
       "      <th>2006</th>\n",
       "      <th>2007</th>\n",
       "      <th>2008</th>\n",
       "      <th>2009</th>\n",
       "      <th>...</th>\n",
       "      <th>2012</th>\n",
       "      <th>2013</th>\n",
       "      <th>2014</th>\n",
       "      <th>2015</th>\n",
       "      <th>2016</th>\n",
       "      <th>2017</th>\n",
       "      <th>2018</th>\n",
       "      <th>2019</th>\n",
       "      <th>2020</th>\n",
       "      <th>Unnamed: 21</th>\n",
       "    </tr>\n",
       "  </thead>\n",
       "  <tbody>\n",
       "    <tr>\n",
       "      <th>0</th>\n",
       "      <td>Beijing</td>\n",
       "      <td>CHN_BEI</td>\n",
       "      <td>Dealing with construction permits (DB06-15 met...</td>\n",
       "      <td>IC.CNST.PRMT.DFRN.DB0615</td>\n",
       "      <td>NaN</td>\n",
       "      <td>NaN</td>\n",
       "      <td>NaN</td>\n",
       "      <td>NaN</td>\n",
       "      <td>NaN</td>\n",
       "      <td>NaN</td>\n",
       "      <td>...</td>\n",
       "      <td>NaN</td>\n",
       "      <td>NaN</td>\n",
       "      <td>34.42095</td>\n",
       "      <td>35.19682</td>\n",
       "      <td>NaN</td>\n",
       "      <td>NaN</td>\n",
       "      <td>NaN</td>\n",
       "      <td>NaN</td>\n",
       "      <td>NaN</td>\n",
       "      <td>NaN</td>\n",
       "    </tr>\n",
       "    <tr>\n",
       "      <th>1</th>\n",
       "      <td>Beijing</td>\n",
       "      <td>CHN_BEI</td>\n",
       "      <td>Dealing with construction permits (DB16-20 met...</td>\n",
       "      <td>IC.CNST.PRMT.DFRN.DB1619</td>\n",
       "      <td>NaN</td>\n",
       "      <td>NaN</td>\n",
       "      <td>NaN</td>\n",
       "      <td>NaN</td>\n",
       "      <td>NaN</td>\n",
       "      <td>NaN</td>\n",
       "      <td>...</td>\n",
       "      <td>NaN</td>\n",
       "      <td>NaN</td>\n",
       "      <td>NaN</td>\n",
       "      <td>41.39762</td>\n",
       "      <td>42.06785</td>\n",
       "      <td>42.40045</td>\n",
       "      <td>43.51246</td>\n",
       "      <td>62.12217</td>\n",
       "      <td>77.7654</td>\n",
       "      <td>NaN</td>\n",
       "    </tr>\n",
       "    <tr>\n",
       "      <th>2</th>\n",
       "      <td>Beijing</td>\n",
       "      <td>CHN_BEI</td>\n",
       "      <td>Dealing with construction permits: Building qu...</td>\n",
       "      <td>IC.DCP.BQC.XD.015.DB1619</td>\n",
       "      <td>NaN</td>\n",
       "      <td>NaN</td>\n",
       "      <td>NaN</td>\n",
       "      <td>NaN</td>\n",
       "      <td>NaN</td>\n",
       "      <td>NaN</td>\n",
       "      <td>...</td>\n",
       "      <td>NaN</td>\n",
       "      <td>NaN</td>\n",
       "      <td>NaN</td>\n",
       "      <td>9.00000</td>\n",
       "      <td>9.00000</td>\n",
       "      <td>9.00000</td>\n",
       "      <td>9.00000</td>\n",
       "      <td>10.00000</td>\n",
       "      <td>15.0000</td>\n",
       "      <td>NaN</td>\n",
       "    </tr>\n",
       "  </tbody>\n",
       "</table>\n",
       "<p>3 rows × 22 columns</p>\n",
       "</div>"
      ],
      "text/plain": [
       "  Country Name Country Code  \\\n",
       "0      Beijing      CHN_BEI   \n",
       "1      Beijing      CHN_BEI   \n",
       "2      Beijing      CHN_BEI   \n",
       "\n",
       "                                      Indicator Name  \\\n",
       "0  Dealing with construction permits (DB06-15 met...   \n",
       "1  Dealing with construction permits (DB16-20 met...   \n",
       "2  Dealing with construction permits: Building qu...   \n",
       "\n",
       "             Indicator Code  2004  2005  2006  2007  2008  2009  ...  2012  \\\n",
       "0  IC.CNST.PRMT.DFRN.DB0615   NaN   NaN   NaN   NaN   NaN   NaN  ...   NaN   \n",
       "1  IC.CNST.PRMT.DFRN.DB1619   NaN   NaN   NaN   NaN   NaN   NaN  ...   NaN   \n",
       "2  IC.DCP.BQC.XD.015.DB1619   NaN   NaN   NaN   NaN   NaN   NaN  ...   NaN   \n",
       "\n",
       "   2013      2014      2015      2016      2017      2018      2019     2020  \\\n",
       "0   NaN  34.42095  35.19682       NaN       NaN       NaN       NaN      NaN   \n",
       "1   NaN       NaN  41.39762  42.06785  42.40045  43.51246  62.12217  77.7654   \n",
       "2   NaN       NaN   9.00000   9.00000   9.00000   9.00000  10.00000  15.0000   \n",
       "\n",
       "   Unnamed: 21  \n",
       "0          NaN  \n",
       "1          NaN  \n",
       "2          NaN  \n",
       "\n",
       "[3 rows x 22 columns]"
      ]
     },
     "execution_count": 32,
     "metadata": {},
     "output_type": "execute_result"
    }
   ],
   "source": [
    "wb_eodb.head(3)"
   ]
  },
  {
   "cell_type": "code",
   "execution_count": 33,
   "metadata": {},
   "outputs": [
    {
     "data": {
      "text/plain": [
       "Index(['Country Name', 'Country Code', 'Indicator Name', 'Indicator Code',\n",
       "       '2004', '2005', '2006', '2007', '2008', '2009', '2010', '2011', '2012',\n",
       "       '2013', '2014', '2015', '2016', '2017', '2018', '2019', '2020',\n",
       "       'Unnamed: 21'],\n",
       "      dtype='object')"
      ]
     },
     "execution_count": 33,
     "metadata": {},
     "output_type": "execute_result"
    }
   ],
   "source": [
    "wb_eodb.columns"
   ]
  },
  {
   "cell_type": "code",
   "execution_count": 55,
   "metadata": {},
   "outputs": [],
   "source": [
    "indicators = list(set(wb_eodb['Indicator Name']))"
   ]
  },
  {
   "cell_type": "markdown",
   "metadata": {},
   "source": [
    "Key indicators on selecting a country where developing a videogames startup\n",
    "- 'Starting a business - Score',"
   ]
  },
  {
   "cell_type": "code",
   "execution_count": 54,
   "metadata": {},
   "outputs": [
    {
     "name": "stdout",
     "output_type": "stream",
     "text": [
      "['NZL', 'GEO', 'CAN', 'SGP', 'HKG', 'JAM', 'AUS', 'AZE', 'ARM', 'UZB', 'XKX', 'MDA', 'EST', 'BRN', 'GBR', 'TWN', 'IRL', 'MUS', 'NOR', 'NLD']\n"
     ]
    }
   ],
   "source": [
    "# Filtering the top 20 countries where registering a company is easier\n",
    "startupfriendly = wb_eodb.loc[wb_eodb['Indicator Name']== 'Starting a business - Score']\n",
    "startupfriendly = list(startupfriendly.sort_values(by='2019', ascending = False)['Country Code'])[0:20]\n",
    "print(startupfriendly)"
   ]
  },
  {
   "cell_type": "code",
   "execution_count": null,
   "metadata": {},
   "outputs": [],
   "source": []
  }
 ],
 "metadata": {
  "kernelspec": {
   "display_name": "Python 3",
   "language": "python",
   "name": "python3"
  },
  "language_info": {
   "codemirror_mode": {
    "name": "ipython",
    "version": 3
   },
   "file_extension": ".py",
   "mimetype": "text/x-python",
   "name": "python",
   "nbconvert_exporter": "python",
   "pygments_lexer": "ipython3",
   "version": "3.8.5"
  }
 },
 "nbformat": 4,
 "nbformat_minor": 4
}
